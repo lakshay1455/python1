{
 "cells": [
  {
   "cell_type": "markdown",
   "id": "543091e3",
   "metadata": {},
   "source": [
    "# ASSINGNMENT 3"
   ]
  },
  {
   "cell_type": "markdown",
   "id": "0f8b9ab6",
   "metadata": {},
   "source": [
    "# --------------------------------------------------"
   ]
  },
  {
   "cell_type": "markdown",
   "id": "89665c2f",
   "metadata": {},
   "source": [
    "### Answer 1\n",
    "\n",
    "Reusability:\n",
    "Functions are advantageous in the way that they provide the option of reusability.  \n",
    "If it is required that some action is going to be done multiple times than the function for that action can be created and then the code is not required to be written all over again. In turn this saves time and effort.  \n",
    "\n",
    "Readability:\n",
    "It improves the readability of the code because the repeated redundant code would not appear again and again in the program"
   ]
  },
  {
   "cell_type": "code",
   "execution_count": null,
   "id": "69f63242",
   "metadata": {},
   "outputs": [],
   "source": []
  },
  {
   "cell_type": "markdown",
   "id": "f0376ee2",
   "metadata": {},
   "source": [
    "### Answer 2\n",
    "When it is called:  \n",
    "The code in a function is only run when the function is called and not when it is specified or created."
   ]
  },
  {
   "cell_type": "code",
   "execution_count": null,
   "id": "3817d113",
   "metadata": {},
   "outputs": [],
   "source": []
  },
  {
   "cell_type": "markdown",
   "id": "7b6d2368",
   "metadata": {},
   "source": [
    "### Answer 3"
   ]
  },
  {
   "cell_type": "code",
   "execution_count": 22,
   "id": "7ae4ace2",
   "metadata": {},
   "outputs": [],
   "source": [
    "def functionname():\n",
    "    ..."
   ]
  },
  {
   "cell_type": "code",
   "execution_count": null,
   "id": "0caf8bd1",
   "metadata": {},
   "outputs": [],
   "source": []
  },
  {
   "cell_type": "markdown",
   "id": "010a0270",
   "metadata": {},
   "source": [
    "### Answer 4"
   ]
  },
  {
   "cell_type": "markdown",
   "id": "fea0689c",
   "metadata": {},
   "source": [
    "Function is the actual code which contains the definition of a task that would be performed when it is called.  \n",
    "\n",
    "Function call is the call to actually execute those set of taks which were mentioned in the definition of the function. "
   ]
  },
  {
   "cell_type": "code",
   "execution_count": 4,
   "id": "321cef10",
   "metadata": {},
   "outputs": [
    {
     "name": "stdout",
     "output_type": "stream",
     "text": [
      "8\n"
     ]
    }
   ],
   "source": [
    "# Below is an example of a function \"nextnum\" being defined, it takes a numeric argument and returns with 1 added to that number\n",
    "def nextnum(n):\n",
    "    print(n + 1)\n",
    "\n",
    "# Below is the function call\n",
    "nextnum(7)"
   ]
  },
  {
   "cell_type": "code",
   "execution_count": null,
   "id": "9f9b7b93",
   "metadata": {},
   "outputs": [],
   "source": []
  },
  {
   "cell_type": "markdown",
   "id": "a3cd79a0",
   "metadata": {},
   "source": [
    "### Answer 5"
   ]
  },
  {
   "cell_type": "markdown",
   "id": "181aef6c",
   "metadata": {},
   "source": [
    "Global Scope - Variables which are not created inside of any sort of function are called to have a Global Scope   \n",
    "Local Scope - Variables created inside a function have a limited scope and they cannot be used outside that very function so they are called to have a local scope.\n",
    "\n",
    "There is only one Global Scope but as there can be many functions inside functions so there can be many limited scopes depending on the number of nested functions"
   ]
  },
  {
   "cell_type": "code",
   "execution_count": null,
   "id": "442a4217",
   "metadata": {},
   "outputs": [],
   "source": []
  },
  {
   "cell_type": "markdown",
   "id": "6f6cff27",
   "metadata": {},
   "source": [
    "### Answer 6\n",
    "When the function call returns all the variables with local scope get eliminated."
   ]
  },
  {
   "cell_type": "code",
   "execution_count": null,
   "id": "8dfc80f4",
   "metadata": {},
   "outputs": [],
   "source": [
    "# If we execute the following code, it will give error because scope of variable n is inside the function itself.\n",
    "def nextnum(n):\n",
    "    return n+1\n",
    "print(n)"
   ]
  },
  {
   "cell_type": "code",
   "execution_count": null,
   "id": "1bd76587",
   "metadata": {},
   "outputs": [],
   "source": []
  },
  {
   "cell_type": "code",
   "execution_count": null,
   "id": "5d8eae6d",
   "metadata": {},
   "outputs": [],
   "source": []
  },
  {
   "cell_type": "markdown",
   "id": "21a3f4ce",
   "metadata": {},
   "source": [
    "### Answer 7\n",
    "The value that a function returns is known as return value\n",
    "\n",
    "Yes expressions can have return values, for instance if we consider the following (4 + 6) / 2, in this expression 4+6 is evaluated first which is then divided by 2, the result of the expression which is 5 is the return value of this expression"
   ]
  },
  {
   "cell_type": "code",
   "execution_count": null,
   "id": "41c62d08",
   "metadata": {},
   "outputs": [],
   "source": []
  },
  {
   "cell_type": "markdown",
   "id": "47666b79",
   "metadata": {},
   "source": [
    "### Answer 8\n",
    "A function with no return statement has no return vale, thus it returns \"None\""
   ]
  },
  {
   "cell_type": "code",
   "execution_count": null,
   "id": "0ccf10c0",
   "metadata": {},
   "outputs": [],
   "source": []
  },
  {
   "cell_type": "markdown",
   "id": "92f74215",
   "metadata": {},
   "source": [
    "### Answer 9\n",
    "In this case the keyword \"global\" is required"
   ]
  },
  {
   "cell_type": "code",
   "execution_count": null,
   "id": "5a33f36e",
   "metadata": {},
   "outputs": [],
   "source": [
    "# The following code will give error as we are trying to change the value of global variable inside a function without specifying it\n",
    "a = 10\n",
    "def demofunc():\n",
    "    a = a+3\n",
    "    return a\n",
    "print(demofunc())"
   ]
  },
  {
   "cell_type": "code",
   "execution_count": 16,
   "id": "883c0a76",
   "metadata": {},
   "outputs": [
    {
     "name": "stdout",
     "output_type": "stream",
     "text": [
      "13\n"
     ]
    }
   ],
   "source": [
    "# Can be accounted for in the following way, here it won't give any error\n",
    "a = 10\n",
    "def demofunc():\n",
    "    global a   # \"global\" keyword\n",
    "    a = a+3\n",
    "    return a\n",
    "print(demofunc())"
   ]
  },
  {
   "cell_type": "code",
   "execution_count": null,
   "id": "a3ed5fc3",
   "metadata": {},
   "outputs": [],
   "source": []
  },
  {
   "cell_type": "markdown",
   "id": "68f420bb",
   "metadata": {},
   "source": [
    "### Answer 10\n",
    "The datatype of None is NoneType, can be seen below"
   ]
  },
  {
   "cell_type": "code",
   "execution_count": 18,
   "id": "594707c3",
   "metadata": {},
   "outputs": [
    {
     "name": "stdout",
     "output_type": "stream",
     "text": [
      "<class 'NoneType'>\n"
     ]
    }
   ],
   "source": [
    "x = None\n",
    "print(type(x))"
   ]
  },
  {
   "cell_type": "code",
   "execution_count": null,
   "id": "7d40db0c",
   "metadata": {},
   "outputs": [],
   "source": []
  },
  {
   "cell_type": "markdown",
   "id": "e14e1335",
   "metadata": {},
   "source": [
    "### Answer 11\n",
    "It imports a package named \"areallyourpetsnamederic\" if any"
   ]
  },
  {
   "cell_type": "code",
   "execution_count": null,
   "id": "007e6a30",
   "metadata": {},
   "outputs": [],
   "source": []
  },
  {
   "cell_type": "markdown",
   "id": "5788e5e2",
   "metadata": {},
   "source": [
    "### Answer 12\n",
    "spam.bacon()"
   ]
  },
  {
   "cell_type": "code",
   "execution_count": null,
   "id": "9c233aa4",
   "metadata": {},
   "outputs": [],
   "source": []
  },
  {
   "cell_type": "markdown",
   "id": "cdd0440e",
   "metadata": {},
   "source": [
    "### Answer 13\n",
    "We can implement exception handling"
   ]
  },
  {
   "cell_type": "code",
   "execution_count": 20,
   "id": "f47c1a8b",
   "metadata": {},
   "outputs": [
    {
     "name": "stdout",
     "output_type": "stream",
     "text": [
      "\"Hey\" is not an integer value\n"
     ]
    }
   ],
   "source": [
    "try:\n",
    "    int(\"Hey\")\n",
    "except ValueError:\n",
    "    print('\"Hey\" is not an integer value')"
   ]
  },
  {
   "cell_type": "code",
   "execution_count": null,
   "id": "14160290",
   "metadata": {},
   "outputs": [],
   "source": []
  },
  {
   "cell_type": "markdown",
   "id": "3f22d0a9",
   "metadata": {},
   "source": [
    "### Answer 14\n",
    "Whatever code is written inside a try clause is executed, if it causes any errors then the except clause is executed"
   ]
  },
  {
   "cell_type": "code",
   "execution_count": 25,
   "id": "63e41674",
   "metadata": {},
   "outputs": [
    {
     "name": "stdout",
     "output_type": "stream",
     "text": [
      "\"Hey\" cannot be converted to integer value\n"
     ]
    }
   ],
   "source": [
    "try:\n",
    "    int(\"Hey\")\n",
    "except ValueError:\n",
    "    print('\"Hey\" cannot be converted to integer value')\n",
    "    \n",
    "#here as the code in try clause will give an error, so the code in except clause gets ecxecuted"
   ]
  },
  {
   "cell_type": "code",
   "execution_count": null,
   "id": "aef86dcc",
   "metadata": {},
   "outputs": [],
   "source": []
  }
 ],
 "metadata": {
  "kernelspec": {
   "display_name": "Python 3 (ipykernel)",
   "language": "python",
   "name": "python3"
  },
  "language_info": {
   "codemirror_mode": {
    "name": "ipython",
    "version": 3
   },
   "file_extension": ".py",
   "mimetype": "text/x-python",
   "name": "python",
   "nbconvert_exporter": "python",
   "pygments_lexer": "ipython3",
   "version": "3.9.13"
  }
 },
 "nbformat": 4,
 "nbformat_minor": 5
}
