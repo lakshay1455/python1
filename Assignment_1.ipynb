{
 "cells": [
  {
   "cell_type": "markdown",
   "id": "b58bfea5",
   "metadata": {},
   "source": [
    "### Question 1\n",
    "1. In the below elements which of them are values or an expression? eg:- values can be integer or string and expressions will be mathematical operators.\n",
    "* \n",
    "'hello'\n",
    "-87.8\n",
    "- \n",
    "/ \n",
    "\t•\t\n",
    "6"
   ]
  },
  {
   "cell_type": "markdown",
   "id": "677335ed",
   "metadata": {},
   "source": [
    "### Solution\n",
    "\n",
    "Values :'hello', -87.8 and 6 \n",
    "Expressions : * , - , / , +"
   ]
  },
  {
   "cell_type": "markdown",
   "id": "95c2a53b",
   "metadata": {},
   "source": [
    "#-------------------------#"
   ]
  },
  {
   "cell_type": "code",
   "execution_count": null,
   "id": "6b505436",
   "metadata": {},
   "outputs": [],
   "source": []
  },
  {
   "cell_type": "markdown",
   "id": "360487ce",
   "metadata": {},
   "source": [
    "### Question 2\n",
    "2. What is the difference between string and variable?"
   ]
  },
  {
   "cell_type": "markdown",
   "id": "ac421850",
   "metadata": {},
   "source": [
    "### Solution\n",
    "String: A string is a datatype in which characters are stored. String values need to be stored inside double or single quotes.\n",
    "Variable:  A variable serves the purpose of storing values be it of any datatype(including string)\n",
    "eg: A = “Hi, How are you?”  ",
    "Here,“Hi, How are you?” is the string and A  is the variable"
   ]
  },
  {
   "cell_type": "markdown",
   "id": "d13dd8d0",
   "metadata": {},
   "source": [
    "#-------------------------#"
   ]
  },
  {
   "cell_type": "code",
   "execution_count": null,
   "id": "693b05a4",
   "metadata": {},
   "outputs": [],
   "source": []
  },
  {
   "cell_type": "markdown",
   "id": "9e9c48fa",
   "metadata": {},
   "source": [
    "### Question 3\n",
    "3. Describe three different data types."
   ]
  },
  {
   "cell_type": "markdown",
   "id": "c0b00f17",
   "metadata": {},
   "source": [
    "### Solution\n",
    "String: Used to store character values. eg  ‘Hello@123+’\n",
    "Float: Used to store numerical values which may or may not have values in decimal places. eg 5.6, 7.0 \n",
    "Int: As is clear from the name it is the datatype used for storing integers eg 5, 7, 1"
   ]
  },
  {
   "cell_type": "markdown",
   "id": "ddcff5fe",
   "metadata": {},
   "source": [
    "#-------------------------#"
   ]
  },
  {
   "cell_type": "code",
   "execution_count": null,
   "id": "dd047d56",
   "metadata": {},
   "outputs": [],
   "source": []
  },
  {
   "cell_type": "markdown",
   "id": "5d3f72e4",
   "metadata": {},
   "source": [
    "### Question 4\n",
    "What is an expression made up of? What do all expressions do?"
   ]
  },
  {
   "cell_type": "markdown",
   "id": "a9a7d37a",
   "metadata": {},
   "source": [
    "### Solution\n",
    "An expression is made up of a combination of values, operators, variables and function calls.\n",
    "Expressions produce a value or a result.\n",
    "Example of expressions: x + 5, 4-(5/9) etc"
   ]
  },
  {
   "cell_type": "markdown",
   "id": "d010a087",
   "metadata": {},
   "source": [
    "#-------------------------#"
   ]
  },
  {
   "cell_type": "markdown",
   "id": "6975432e",
   "metadata": {},
   "source": []
  },
  {
   "cell_type": "markdown",
   "id": "84a94110",
   "metadata": {},
   "source": [
    "### Question 5\n",
    "This assignment statements, like spam = 10. What is the difference between an expression and a statement?"
   ]
  },
  {
   "cell_type": "markdown",
   "id": "51b28ef3",
   "metadata": {},
   "source": [
    "### Solution:"
   ]
  },
  {
   "cell_type": "code",
   "execution_count": 8,
   "id": "2eb0772c",
   "metadata": {},
   "outputs": [],
   "source": [
    "#An expression produces a value when executed but that is not the case with statement.\n",
    "4 + 5\n",
    "x * 4\n",
    "# The are expressions"
   ]
  },
  {
   "cell_type": "code",
   "execution_count": 3,
   "id": "96a7160f",
   "metadata": {},
   "outputs": [],
   "source": [
    "#Statements can range from simple assigning of values to variables to far complex ones.\n",
    "x = 45\n",
    "print(\"Hello World\")\n",
    "# These are examples of statements"
   ]
  },
  {
   "cell_type": "code",
   "execution_count": null,
   "id": "fd0fe7cc",
   "metadata": {},
   "outputs": [],
   "source": []
  },
  {
   "cell_type": "markdown",
   "id": "a59b695c",
   "metadata": {},
   "source": [
    "### Question 6\n",
    "6. After running the following code, what does the variable bacon contain?\n",
    "bacon = 22\n",
    "bacon + 1"
   ]
  },
  {
   "cell_type": "markdown",
   "id": "fbf92c5b",
   "metadata": {},
   "source": [
    "### Solution\n",
    "The variable bacon still contains the value 22 but the output of this code will give 23"
   ]
  },
  {
   "cell_type": "markdown",
   "id": "68707af9",
   "metadata": {},
   "source": [
    "#-------------------------#"
   ]
  },
  {
   "cell_type": "code",
   "execution_count": null,
   "id": "7ae59463",
   "metadata": {},
   "outputs": [],
   "source": []
  },
  {
   "cell_type": "markdown",
   "id": "abe62b8f",
   "metadata": {},
   "source": [
    "### Question 7\n",
    "7. What should the values of the following two terms be?\n",
    "'spam' + 'spamspam'\n",
    "'spam' * 3"
   ]
  },
  {
   "cell_type": "markdown",
   "id": "014be582",
   "metadata": {},
   "source": [
    "### Solution\n",
    "Both of them will be ‘spamspamspam’"
   ]
  },
  {
   "cell_type": "markdown",
   "id": "c927542c",
   "metadata": {},
   "source": [
    "#-------------------------#"
   ]
  },
  {
   "cell_type": "code",
   "execution_count": null,
   "id": "9e489e4f",
   "metadata": {},
   "outputs": [],
   "source": []
  },
  {
   "cell_type": "markdown",
   "id": "c8337bf8",
   "metadata": {},
   "source": [
    "### Question 8\n",
    "8. Why is eggs a valid variable name while 100 is invalid?"
   ]
  },
  {
   "cell_type": "markdown",
   "id": "8b32a780",
   "metadata": {},
   "source": [
    "### Solution\n",
    "Because Python does not allow for variables name to start from a number."
   ]
  },
  {
   "cell_type": "markdown",
   "id": "8865b163",
   "metadata": {},
   "source": [
    "#-------------------------#"
   ]
  },
  {
   "cell_type": "code",
   "execution_count": null,
   "id": "cd27e8ce",
   "metadata": {},
   "outputs": [],
   "source": []
  },
  {
   "cell_type": "markdown",
   "id": "6b3e9dd5",
   "metadata": {},
   "source": [
    "### Question 9\n",
    "9. What three functions can be used to get the integer, floating-point number, or string version of a value?"
   ]
  },
  {
   "cell_type": "markdown",
   "id": "f06f40c9",
   "metadata": {},
   "source": [
    "### Solution\n",
    "int(), float() and str() respectively"
   ]
  },
  {
   "cell_type": "markdown",
   "id": "3efa2c22",
   "metadata": {},
   "source": [
    "#-------------------------#"
   ]
  },
  {
   "cell_type": "code",
   "execution_count": null,
   "id": "31b5d490",
   "metadata": {},
   "outputs": [],
   "source": []
  },
  {
   "cell_type": "markdown",
   "id": "1eccb2e2",
   "metadata": {},
   "source": [
    "### Question 10\n",
    "10. Why does this expression cause an error? How can you fix it?\n",
    "'I have eaten ' + 99 + ' burritos.'"
   ]
  },
  {
   "cell_type": "markdown",
   "id": "33e5ff02",
   "metadata": {},
   "source": [
    "### Solution\n",
    "Because integer values are not allowed to be concatenated, it can be fixed by changing 99 to a string value, to fix it make it as: 'I have eaten ' + ‘99’ + ' burritos.'  or 'I have eaten ' + str(99) + ' burritos.'"
   ]
  }
 ],
 "metadata": {
  "kernelspec": {
   "display_name": "Python 3 (ipykernel)",
   "language": "python",
   "name": "python3"
  },
  "language_info": {
   "codemirror_mode": {
    "name": "ipython",
    "version": 3
   },
   "file_extension": ".py",
   "mimetype": "text/x-python",
   "name": "python",
   "nbconvert_exporter": "python",
   "pygments_lexer": "ipython3",
   "version": "3.9.13"
  }
 },
 "nbformat": 4,
 "nbformat_minor": 5
}
