{
 "cells": [
  {
   "cell_type": "markdown",
   "id": "19fb9473",
   "metadata": {},
   "source": [
    "# ASSIGNMENT 2"
   ]
  },
  {
   "cell_type": "markdown",
   "id": "dd2b8f37",
   "metadata": {},
   "source": [
    "# --------------------------------------------------"
   ]
  },
  {
   "cell_type": "markdown",
   "id": "23e6fe7b",
   "metadata": {},
   "source": [
    "### Question 1\n",
    "What are the two values of the Boolean data type? How do you write them?"
   ]
  },
  {
   "cell_type": "markdown",
   "id": "d51328e7",
   "metadata": {},
   "source": [
    "### Answer 1"
   ]
  },
  {
   "cell_type": "code",
   "execution_count": null,
   "id": "73a5bf4a",
   "metadata": {},
   "outputs": [],
   "source": [
    "# The two values of the boolean data type are following\n",
    "True\n",
    "False\n",
    "\n",
    "print(3 > 2) # This will print True\n",
    "print(2 > 3) # This will print False"
   ]
  },
  {
   "cell_type": "markdown",
   "id": "183107ad",
   "metadata": {},
   "source": [
    " "
   ]
  },
  {
   "cell_type": "markdown",
   "id": "f077d3b3",
   "metadata": {},
   "source": [
    "### Question 2\n",
    "What are the three different types of Boolean operators?"
   ]
  },
  {
   "cell_type": "markdown",
   "id": "5e3fa6d7",
   "metadata": {},
   "source": [
    "### Answer 2\n",
    "The 3 different types of boolean operators are:  \n",
    "and : If both the conditions i.e the one on the left of it and the one on the right are True it returns True else it returns False  \n",
    "or  : If any one or both the conditions are True it returns True, if both are False it Retuens False  \n",
    "not : It reverses the return value of the conditions i.e. if the condition would otherwise return True then with not operator it returns False and vice versa  \n",
    "                                                                                                                      \n"
   ]
  },
  {
   "cell_type": "code",
   "execution_count": null,
   "id": "78639bcf",
   "metadata": {},
   "outputs": [],
   "source": []
  },
  {
   "cell_type": "markdown",
   "id": "3122d9b2",
   "metadata": {},
   "source": [
    "### Question 3\n",
    "Make a list of each Boolean operator&#39;s truth tables (i.e. every possible combination of Boolean\n",
    "values for the operator and what it evaluate)."
   ]
  },
  {
   "cell_type": "markdown",
   "id": "f98410b6",
   "metadata": {},
   "source": [
    "### Answer 3"
   ]
  },
  {
   "cell_type": "code",
   "execution_count": null,
   "id": "1268f18f",
   "metadata": {},
   "outputs": [],
   "source": [
    "# and operator\n",
    "print(5 > 3 and 4 > 2)  # Prints True when both conditions are True\n",
    "print(5 > 3 and 4 < 2)  # Prints False when one of the conditions are True and other is False\n",
    "print(5 < 3 and 4 < 2)  # Prints False when both of the conditions are False\n",
    "\n",
    "# or operator\n",
    "print(5 > 3 or 4 > 2)   # Prints True when both conditions are True\n",
    "print(5 > 3 or 4 < 2)   # Prints True when one of the conditions are True and other is False\n",
    "print(5 < 3 or 4 < 2)   # Prints False when both of the conditions are False\n",
    "\n",
    "# not operator\n",
    "print(not 6 > 1)        # Prints False when the otherwise condition is True\n",
    "print(not 6 < 1)        # Prints True when the otherwise condition is False"
   ]
  },
  {
   "cell_type": "code",
   "execution_count": null,
   "id": "679fd81f",
   "metadata": {},
   "outputs": [],
   "source": []
  },
  {
   "cell_type": "code",
   "execution_count": null,
   "id": "6c563be8",
   "metadata": {},
   "outputs": [],
   "source": []
  },
  {
   "cell_type": "markdown",
   "id": "0e2f90e4",
   "metadata": {},
   "source": [
    "### Question 4\n",
    "What are the values of the following expressions?\n",
    "(5 > 4) and (3 == 5)\n",
    "not (5 > 4)\n",
    "(5 > 4) or (3 == 5)\n",
    "not ((5 > 4) or (3 == 5))\n",
    "(True and True) and (True == False)\n",
    "(not False) or (not True)"
   ]
  },
  {
   "cell_type": "markdown",
   "id": "a9acf963",
   "metadata": {},
   "source": [
    "### Answer 4"
   ]
  },
  {
   "cell_type": "code",
   "execution_count": null,
   "id": "d0552571",
   "metadata": {},
   "outputs": [],
   "source": [
    "(5 > 4) and (3 == 5)                    # False\n",
    "\n",
    "not(5>4)                                # False\n",
    "\n",
    "(5 > 4) or (3 == 5)                     # True\n",
    "\n",
    "not((5>4) or (3==5))                    # False\n",
    "\n",
    "(True and True) and (True == False)     # False\n",
    "\n",
    "(not False) or (not True)              # True"
   ]
  },
  {
   "cell_type": "code",
   "execution_count": null,
   "id": "d6827019",
   "metadata": {},
   "outputs": [],
   "source": []
  },
  {
   "cell_type": "code",
   "execution_count": null,
   "id": "db39a33d",
   "metadata": {},
   "outputs": [],
   "source": []
  },
  {
   "cell_type": "code",
   "execution_count": null,
   "id": "6b0cf2b3",
   "metadata": {},
   "outputs": [],
   "source": [
    "### Question 5\n",
    "What are the six comparison operators?"
   ]
  },
  {
   "cell_type": "markdown",
   "id": "34c74011",
   "metadata": {},
   "source": [
    "### Answer 5\n",
    "The 6 different types of comparison operators are  \n",
    "1. \"<\"  - Less than operator : If the value on the left of it is less than the value to the right of it, it returns True else it returns False  \n",
    "2. \">\"  - Greater than operator : If the value on the left of it is greater than the value to the right of it, it returns True else it returns False  \n",
    "3. \"==\"  - Equal to operator : If the value on the right of it is equal to the value on the left of it, it returns True else it returns False  \n",
    "4. \"<=\" - Less than or equal to operator : If the value on the left of it is less than or equal to the value to the right of it, it returns True else it returns False  \n",
    "5. \">=\" - Greater than or equal to operator : If the value on the left of it is greater than or equal to the value to the right of it, it returns True else it returns False  \n",
    "6. \"!=\" - Not equal to operator : If the value to the left of it is not equal to the right of it, it returns True else it returns False    "
   ]
  },
  {
   "cell_type": "code",
   "execution_count": 5,
   "id": "3d963fc8",
   "metadata": {},
   "outputs": [],
   "source": [
    "print(1<2)  # Prints True\n",
    "print(2<1)  # Prints False\n",
    "\n",
    "print(1>2)  # Prints False\n",
    "print(2>1)  # Prints True\n",
    "\n",
    "print(1==2) # Prints False\n",
    "print(1==1) # Prints True\n",
    "\n",
    "print(2<=2) # Prints True\n",
    "print(2<=3) # Prints True\n",
    "print(2<=1) # Prints False\n",
    "\n",
    "print(3>=2) # Prints True\n",
    "print(3>=3) # Prints True\n",
    "print(3>=4) # Prints False\n",
    "\n",
    "print(1!=2) # Prints True\n",
    "print(1!=1) # Prints False"
   ]
  },
  {
   "cell_type": "code",
   "execution_count": null,
   "id": "97e49d65",
   "metadata": {},
   "outputs": [],
   "source": []
  },
  {
   "cell_type": "code",
   "execution_count": null,
   "id": "2344f1ec",
   "metadata": {},
   "outputs": [],
   "source": []
  },
  {
   "cell_type": "markdown",
   "id": "7125e5cd",
   "metadata": {},
   "source": [
    "### Question 6\n",
    "How do you tell the difference between the equal to and assignment operators?Describe a\n",
    "condition and when you would use one."
   ]
  },
  {
   "cell_type": "markdown",
   "id": "e9842d3f",
   "metadata": {},
   "source": [
    "### Answer 6\n",
    "In an equal to operator there are 2 mathematical equal to signs eg. 4==4  \n",
    "An equal to operator is used when we need to test a condition whether the both the values on the right and on the left are same or not\n",
    "\n",
    "In an assignment operator there is only one such sign eg. x = 6  \n",
    "An assignment operator is used when we want to assign some particular value(of any data type) to a variable."
   ]
  },
  {
   "cell_type": "code",
   "execution_count": null,
   "id": "c0a3c348",
   "metadata": {},
   "outputs": [],
   "source": [
    "print(4==4)   # Prints True\n",
    "print(3==4)   # Prints False\n",
    "\n",
    "x = 8\n",
    "print(x)      # Prints 8"
   ]
  },
  {
   "cell_type": "code",
   "execution_count": null,
   "id": "27524526",
   "metadata": {},
   "outputs": [],
   "source": []
  },
  {
   "cell_type": "markdown",
   "id": "ba8097be",
   "metadata": {},
   "source": [
    "### Question 7\n",
    "Identify the three blocks in this code:\n",
    "spam = 0\n",
    "if spam == 10:\n",
    "    print('eggs')\n",
    "if spam > 5:\n",
    "    print('bacon')\n",
    "else:\n",
    "    print('ham')\n",
    "    print('spam')\n",
    "    print('spam')"
   ]
  },
  {
   "cell_type": "markdown",
   "id": "68eac069",
   "metadata": {},
   "source": [
    "### Answer 7"
   ]
  },
  {
   "cell_type": "code",
   "execution_count": null,
   "id": "1745249b",
   "metadata": {},
   "outputs": [],
   "source": [
    "spam = 0\n",
    "\n",
    "# Block 1\n",
    "if spam == 10:\n",
    "    print('eggs')\n",
    "\n",
    "# Block 2\n",
    "if spam > 5:\n",
    "    print('bacon')\n",
    "\n",
    "# Block 3\n",
    "else:\n",
    "    print('ham')\n",
    "    print('spam')\n",
    "    print('spam')"
   ]
  },
  {
   "cell_type": "code",
   "execution_count": null,
   "id": "1cfd29df",
   "metadata": {},
   "outputs": [],
   "source": []
  },
  {
   "cell_type": "code",
   "execution_count": null,
   "id": "ed1d16a6",
   "metadata": {},
   "outputs": [],
   "source": []
  },
  {
   "cell_type": "markdown",
   "id": "3bf37754",
   "metadata": {},
   "source": [
    "### Question 8\n",
    "Write code that prints Hello if 1 is stored in spam, prints Howdy if 2 is stored in spam, and prints\n",
    "Greetings! if anything else is stored in spam."
   ]
  },
  {
   "cell_type": "markdown",
   "id": "8a433326",
   "metadata": {},
   "source": [
    "### Answer 8"
   ]
  },
  {
   "cell_type": "code",
   "execution_count": null,
   "id": "2bc1f809",
   "metadata": {},
   "outputs": [],
   "source": [
    "if spam == 1:\n",
    "    print(\"Hello\")\n",
    "elif spam == 2:\n",
    "    print(\"Howdy\")\n",
    "else:\n",
    "    print(\"Greetings!\")"
   ]
  },
  {
   "cell_type": "code",
   "execution_count": null,
   "id": "5fcba379",
   "metadata": {},
   "outputs": [],
   "source": []
  },
  {
   "cell_type": "code",
   "execution_count": null,
   "id": "3108fac9",
   "metadata": {},
   "outputs": [],
   "source": []
  },
  {
   "cell_type": "markdown",
   "id": "6defa20c",
   "metadata": {},
   "source": [
    "### Question 9\n",
    "If your programme is stuck in an endless loop, what keys you’ll press?"
   ]
  },
  {
   "cell_type": "markdown",
   "id": "c9381e46",
   "metadata": {},
   "source": [
    "### Answer 9\n",
    "In vs code we can press ctrl + c, in jupyter notebook we can interrupt the kernal from kernal menu"
   ]
  },
  {
   "cell_type": "code",
   "execution_count": null,
   "id": "ffd26129",
   "metadata": {},
   "outputs": [],
   "source": []
  },
  {
   "cell_type": "code",
   "execution_count": null,
   "id": "1dbf3d42",
   "metadata": {},
   "outputs": [],
   "source": []
  },
  {
   "cell_type": "markdown",
   "id": "5c182228",
   "metadata": {},
   "source": [
    "### Question 10\n",
    "How can you tell the difference between break and continue?"
   ]
  },
  {
   "cell_type": "markdown",
   "id": "71919726",
   "metadata": {},
   "source": [
    "### Answer 10\n",
    "Break - Exits from the loop to outside of the loop  \n",
    "Continue - Makes the program jump to the next iteration of the loop overlooking anything mentioned after the keyword \"continue\" inside the loop"
   ]
  },
  {
   "cell_type": "code",
   "execution_count": 19,
   "id": "1c435c9e",
   "metadata": {},
   "outputs": [
    {
     "name": "stdout",
     "output_type": "stream",
     "text": [
      "0\n",
      "Finished\n"
     ]
    }
   ],
   "source": [
    "# Here the for the loop is exited as soon as it is encountered with the keyword \"break\"\n",
    "for i in range(10):\n",
    "    print(i)\n",
    "    break\n",
    "    print(i+1)\n",
    "print(\"Finished\")"
   ]
  },
  {
   "cell_type": "code",
   "execution_count": null,
   "id": "1967d8cb",
   "metadata": {},
   "outputs": [],
   "source": [
    "# As soon as the programme encounters the keyword \"continue\" it jumps to the next iteration.\n",
    "for i in range(10):\n",
    "    print(i)\n",
    "    continue\n",
    "    print(i+999999999)         # This is not taken into consideration\n",
    "print(\"Finished\")"
   ]
  },
  {
   "cell_type": "code",
   "execution_count": null,
   "id": "bb7d9496",
   "metadata": {},
   "outputs": [],
   "source": []
  },
  {
   "cell_type": "code",
   "execution_count": null,
   "id": "3b9fbfb4",
   "metadata": {},
   "outputs": [],
   "source": []
  },
  {
   "cell_type": "markdown",
   "id": "3f537b39",
   "metadata": {},
   "source": [
    "### Question 11\n",
    "In a for loop, what is the difference between range(10), range(0, 10), and range(0, 10, 1)?"
   ]
  },
  {
   "cell_type": "markdown",
   "id": "bb39365b",
   "metadata": {},
   "source": [
    "### Answer 11\n",
    "There is no effective difference between the three  \n",
    "range(0,10,1) : Here 0 refers to the starting value, 10 is 1 more than the ending value, and 1 is the step value\n",
    "\n",
    "When there is no starting value it is by default taken to be 0 and if the step is not mentioned it is by default taken as 1.   \n",
    "Therefore range(10), range(0,10) and range(0,10,1) end up performing the same exact function in a for loop."
   ]
  },
  {
   "cell_type": "code",
   "execution_count": null,
   "id": "2754f51f",
   "metadata": {},
   "outputs": [],
   "source": []
  },
  {
   "cell_type": "code",
   "execution_count": null,
   "id": "520d28ca",
   "metadata": {},
   "outputs": [],
   "source": []
  },
  {
   "cell_type": "markdown",
   "id": "d6eb8fe6",
   "metadata": {},
   "source": [
    "### Question 12\n",
    "Write a short program that prints the numbers 1 to 10 using a for loop. Then write an equivalent\n",
    "program that prints the numbers 1 to 10 using a while loop."
   ]
  },
  {
   "cell_type": "markdown",
   "id": "1605497e",
   "metadata": {},
   "source": [
    "### Answer 12"
   ]
  },
  {
   "cell_type": "code",
   "execution_count": null,
   "id": "1f697644",
   "metadata": {},
   "outputs": [],
   "source": [
    "# for loop\n",
    "for i in range(1,11):\n",
    "    print(i)"
   ]
  },
  {
   "cell_type": "code",
   "execution_count": null,
   "id": "f20b453b",
   "metadata": {},
   "outputs": [],
   "source": [
    "# while loop\n",
    "i = 1\n",
    "while i <=10:\n",
    "    print(i)\n",
    "    i += 1"
   ]
  },
  {
   "cell_type": "code",
   "execution_count": null,
   "id": "a2462dcb",
   "metadata": {},
   "outputs": [],
   "source": []
  },
  {
   "cell_type": "code",
   "execution_count": null,
   "id": "2c9ffe33",
   "metadata": {},
   "outputs": [],
   "source": []
  },
  {
   "cell_type": "code",
   "execution_count": null,
   "id": "50d01a3f",
   "metadata": {},
   "outputs": [],
   "source": []
  },
  {
   "cell_type": "markdown",
   "id": "7b9c9fc7",
   "metadata": {},
   "source": [
    "### Question 13\n",
    "If you had a function named bacon() inside a module named spam, how would you call it after\n",
    "importing spam?"
   ]
  },
  {
   "cell_type": "markdown",
   "id": "7b749223",
   "metadata": {},
   "source": [
    "### Answer 13"
   ]
  },
  {
   "cell_type": "code",
   "execution_count": null,
   "id": "8f7aed76",
   "metadata": {},
   "outputs": [],
   "source": [
    "import spam\n",
    "\n",
    "spam.bacon()"
   ]
  },
  {
   "cell_type": "code",
   "execution_count": null,
   "id": "8b6d2640",
   "metadata": {},
   "outputs": [],
   "source": []
  }
 ],
 "metadata": {
  "kernelspec": {
   "display_name": "Python 3 (ipykernel)",
   "language": "python",
   "name": "python3"
  },
  "language_info": {
   "codemirror_mode": {
    "name": "ipython",
    "version": 3
   },
   "file_extension": ".py",
   "mimetype": "text/x-python",
   "name": "python",
   "nbconvert_exporter": "python",
   "pygments_lexer": "ipython3",
   "version": "3.9.13"
  }
 },
 "nbformat": 4,
 "nbformat_minor": 5
}
